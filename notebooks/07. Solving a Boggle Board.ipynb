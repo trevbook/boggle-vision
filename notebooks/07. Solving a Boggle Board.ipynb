{
 "cells": [
  {
   "cell_type": "markdown",
   "metadata": {},
   "source": [
    "# Motivation\n",
    "Now, for a very different type of notebook: I'm leaving the realm of computer vision, and moving into some algorithm design. In this notebook, I'll write an algorithm to solve a Boggle board. "
   ]
  },
  {
   "cell_type": "markdown",
   "metadata": {},
   "source": [
    "# Setup\n",
    "The cells below will set up the rest of the notebook. \n",
    "\n",
    "I'll start by configuring the kernel:"
   ]
  },
  {
   "cell_type": "code",
   "execution_count": null,
   "metadata": {},
   "outputs": [],
   "source": [
    "# Change directories to the root of the project\n",
    "%cd ..\n",
    "\n",
    "# Enable autoreload of modules\n",
    "%load_ext autoreload\n",
    "%autoreload 2"
   ]
  },
  {
   "cell_type": "markdown",
   "metadata": {},
   "source": [
    "Next, I'm going to import various modules:"
   ]
  },
  {
   "cell_type": "code",
   "execution_count": null,
   "metadata": {},
   "outputs": [],
   "source": [
    "# Import statements\n",
    "import json\n",
    "from pathlib import Path\n",
    "import pandas as pd\n",
    "from tqdm import tqdm\n",
    "\n",
    "# Import custom-built modules \n",
    "from utils.settings import allowed_boggle_tiles"
   ]
  },
  {
   "cell_type": "markdown",
   "metadata": {},
   "source": [
    "I'm also going to load in the dictionary of allowed words:"
   ]
  },
  {
   "cell_type": "code",
   "execution_count": null,
   "metadata": {},
   "outputs": [],
   "source": [
    "# Load in the list of allowed words\n",
    "with open(\"data\\scrabble-dictionary.json\", \"r\") as json_file:\n",
    "    allowed_words = json.load(json_file)"
   ]
  },
  {
   "cell_type": "markdown",
   "metadata": {},
   "source": [
    "# Methods\n",
    "Below, I'll define a number of methods. \n",
    "\n",
    "This first one will build [a trie](https://en.wikipedia.org/wiki/Trie). This is an efficient data structure for string search, apparently.  "
   ]
  },
  {
   "cell_type": "code",
   "execution_count": null,
   "metadata": {},
   "outputs": [],
   "source": [
    "def build_trie(words):\n",
    "    \"\"\"\n",
    "    This method will build a trie from a list of words.\n",
    "    \"\"\"\n",
    "    \n",
    "    trie = {}\n",
    "    for word in words:\n",
    "        node = trie\n",
    "        for char in word:\n",
    "            if char not in node:\n",
    "                node[char] = {}\n",
    "            node = node[char]\n",
    "        node[\"end\"] = True\n",
    "    return trie\n",
    "\n",
    "def build_trie(words, special_tiles):\n",
    "    trie = {}\n",
    "    for word in words:\n",
    "        if word==\"minister\":\n",
    "            print(\"HEY\")\n",
    "        node = trie\n",
    "        i = 0\n",
    "        while i < len(word):\n",
    "            char = word[i]\n",
    "            if word==\"minister\":\n",
    "                print(char)\n",
    "            # Check if the character has a special mapping\n",
    "            special_tile = special_tiles.get(char, None)\n",
    "            if special_tile and word.startswith(special_tile, i):\n",
    "                char = special_tile\n",
    "                i += len(special_tile)\n",
    "            else:\n",
    "                i += 1\n",
    "            if char not in node:\n",
    "                node[char] = {}\n",
    "            node = node[char]\n",
    "        node[\"end\"] = True\n",
    "    return trie\n",
    "\n",
    "def build_trie(words, special_tiles):\n",
    "    trie = {}\n",
    "    for word in words:\n",
    "        node = trie\n",
    "        i = 0\n",
    "        while i < len(word):\n",
    "            char = word[i]\n",
    "            # Check if the character has a special mapping\n",
    "            special_tile = special_tiles.get(char, None)\n",
    "            \n",
    "            # Add the special tile to the trie\n",
    "            if special_tile and word.startswith(special_tile, i):\n",
    "                if special_tile not in node:\n",
    "                    node[special_tile] = {}\n",
    "                temp_node = node[special_tile]\n",
    "                i += len(special_tile)\n",
    "                for next_char in word[i:]:\n",
    "                    if next_char not in temp_node:\n",
    "                        temp_node[next_char] = {}\n",
    "                    temp_node = temp_node[next_char]\n",
    "                temp_node[\"end\"] = True\n",
    "            \n",
    "            # Add the individual letter to the trie\n",
    "            if char not in node:\n",
    "                node[char] = {}\n",
    "            node = node[char]\n",
    "            i += 1\n",
    "\n",
    "        node[\"end\"] = True\n",
    "    return trie\n",
    "\n",
    "def add_word_to_trie(trie, word, i, special_tiles):\n",
    "    if i == len(word):\n",
    "        trie[\"end\"] = True\n",
    "        return\n",
    "\n",
    "    char = word[i]\n",
    "    special_tile = special_tiles.get(char, None)\n",
    "\n",
    "    # Handle special tile\n",
    "    if special_tile and word.startswith(special_tile, i):\n",
    "        if special_tile not in trie:\n",
    "            trie[special_tile] = {}\n",
    "        add_word_to_trie(trie[special_tile], word, i + len(special_tile), special_tiles)\n",
    "\n",
    "    # Handle individual letter\n",
    "    if char not in trie:\n",
    "        trie[char] = {}\n",
    "    add_word_to_trie(trie[char], word, i + 1, special_tiles)\n",
    "\n",
    "def build_trie(words, special_tiles):\n",
    "    trie = {}\n",
    "    for word in words:\n",
    "        add_word_to_trie(trie, word, 0, special_tiles)\n",
    "    return trie"
   ]
  },
  {
   "cell_type": "markdown",
   "metadata": {},
   "source": [
    "Next method will parse a Boggle board from a semicolon-delimited letter sequence:"
   ]
  },
  {
   "cell_type": "code",
   "execution_count": null,
   "metadata": {},
   "outputs": [],
   "source": [
    "def parse_board_from_letter_sequence(letter_sequence):\n",
    "    \"\"\"\n",
    "    This method will parse a Boggle board (in the form of a 2D list)\n",
    "    from a sequence of semi-colon delimited letters.\n",
    "    \"\"\"\n",
    "    board = []\n",
    "    split_letter_sequence = letter_sequence.split(\";\")\n",
    "    n_rows = int(len(split_letter_sequence) ** 0.5)\n",
    "    for i in range(n_rows):\n",
    "        board.append(split_letter_sequence[i*n_rows:(i+1)*n_rows])\n",
    "    return board"
   ]
  },
  {
   "cell_type": "markdown",
   "metadata": {},
   "source": [
    "The next method will score a word depending on its length."
   ]
  },
  {
   "cell_type": "code",
   "execution_count": null,
   "metadata": {},
   "outputs": [],
   "source": [
    "def score_boggle_word(word):\n",
    "    \"\"\"\n",
    "    This method will score a Boggle word.\n",
    "    \"\"\"\n",
    "\n",
    "    if len(word) < 4:\n",
    "        return 0\n",
    "    elif len(word) == 4:\n",
    "        return 1\n",
    "    elif len(word) == 5:\n",
    "        return 2\n",
    "    elif len(word) == 6:\n",
    "        return 3\n",
    "    elif len(word) == 7:\n",
    "        return 5\n",
    "    else:\n",
    "        return 11"
   ]
  },
  {
   "cell_type": "markdown",
   "metadata": {},
   "source": [
    "These next couple of methods were generated by ChatGPT - they'll help me solve the Boggle boards:"
   ]
  },
  {
   "cell_type": "code",
   "execution_count": null,
   "metadata": {},
   "outputs": [],
   "source": [
    "# Check if a position is within the Boggle board\n",
    "def is_valid(x, y, visited, board):\n",
    "    return 0 <= x < len(board) and 0 <= y < len(board[0]) and not visited[x][y]\n",
    "\n",
    "\n",
    "# Run DFS on the board to find words\n",
    "def dfs(x, y, board, visited, trie, word, found_words):\n",
    "    if \"end\" in trie:\n",
    "        found_words.add(word)\n",
    "\n",
    "    visited[x][y] = True\n",
    "\n",
    "    # Adjacent positions (up, down, left, right, and diagonals)\n",
    "    directions = [(-1, -1), (-1, 0), (-1, 1), (0, -1), (0, 1), (1, -1), (1, 0), (1, 1)]\n",
    "\n",
    "    for dx, dy in directions:\n",
    "        new_x, new_y = x + dx, y + dy\n",
    "        if is_valid(new_x, new_y, visited, board) and board[new_x][new_y] != \"block\":\n",
    "            next_char = board[new_x][new_y]\n",
    "            if len(next_char) == 0:\n",
    "                if next_char in trie:\n",
    "                    dfs(\n",
    "                        new_x,\n",
    "                        new_y,\n",
    "                        board,\n",
    "                        visited,\n",
    "                        trie[next_char],\n",
    "                        word + next_char,\n",
    "                        found_words,\n",
    "                    )\n",
    "            else:\n",
    "                for char in next_char:\n",
    "                    if char in trie:\n",
    "                        dfs(\n",
    "                            new_x,\n",
    "                            new_y,\n",
    "                            board,\n",
    "                            visited,\n",
    "                            trie[char],\n",
    "                            word + char,\n",
    "                            found_words,\n",
    "                        )\n",
    "\n",
    "    visited[x][y] = False\n",
    "\n",
    "\n",
    "# Solve the Boggle board\n",
    "def solve_boggle(board, trie):\n",
    "    found_words = set()\n",
    "\n",
    "    rows, cols = len(board), len(board[0])\n",
    "    visited = [[False for _ in range(cols)] for _ in range(rows)]\n",
    "\n",
    "    for i in range(rows):\n",
    "        for j in range(cols):\n",
    "            start_char = board[i][j]\n",
    "            if start_char in trie:\n",
    "                dfs(i, j, board, visited, trie[start_char], start_char, found_words)\n",
    "                \n",
    "    # Now, we're going to create a DataFrame that contains the words found on each board\n",
    "    available_words_df = pd.DataFrame.from_records([\n",
    "        {\n",
    "            \"word\": word,\n",
    "            \"length\": len(word),\n",
    "            \"points\": score_boggle_word(word)\n",
    "        } for word in found_words\n",
    "    ]).sort_values(\"length\", ascending=False)\n",
    "\n",
    "    return available_words_df"
   ]
  },
  {
   "cell_type": "markdown",
   "metadata": {},
   "source": [
    "# Main Loop\n",
    "Below, I'm going to load in all of the Boggle boards, and then solve them. I'll start by loading them in."
   ]
  },
  {
   "cell_type": "code",
   "execution_count": null,
   "metadata": {},
   "outputs": [],
   "source": [
    "# Open the .csv file containing the labeled boards\n",
    "board_data_df = pd.read_csv(\"data/labeled-boards.csv\")\n",
    "\n",
    "# Convert all of the letters to lowercase\n",
    "board_data_df[\"letter_sequence\"] = board_data_df[\"letter_sequence\"].str.lower()\n",
    "\n",
    "# Parse the boards from the letter sequences\n",
    "board_data_df[\"board\"] = board_data_df[\"letter_sequence\"].apply(parse_board_from_letter_sequence)"
   ]
  },
  {
   "cell_type": "markdown",
   "metadata": {},
   "source": [
    "Now that I've got each of the boards, I can run board detection on them. "
   ]
  },
  {
   "cell_type": "code",
   "execution_count": null,
   "metadata": {},
   "outputs": [],
   "source": [
    "# Create a trie out of the allowed words\n",
    "allowed_words_trie = build_trie(allowed_words, {tile[0].lower():tile.lower() for tile in allowed_boggle_tiles if len(tile) > 1})\n",
    "\n",
    "# Now, create a dictionary mapping image names to DataFrames containing the \n",
    "# allowed words and their scores\n",
    "board_data_dfs = {}\n",
    "for row in tqdm(list(board_data_df.itertuples())):\n",
    "    board_data_dfs[row.file_path] = solve_boggle(row.board, allowed_words_trie)"
   ]
  },
  {
   "cell_type": "markdown",
   "metadata": {},
   "source": [
    "Now, I'm going to calculate some stats about each board, and add them to a DataFrame."
   ]
  },
  {
   "cell_type": "code",
   "execution_count": null,
   "metadata": {},
   "outputs": [],
   "source": [
    "# This list will hold DataFrame records\n",
    "solved_board_stats_df_records = []\n",
    "\n",
    "# Iterate through each of the boards\n",
    "for board_file_path, solved_board_df in board_data_dfs.items():\n",
    "    \n",
    "    # Determine how many words are worth 11 points\n",
    "    max_point_word_ct = len(solved_board_df.query(\"points==11\"))\n",
    "    \n",
    "    # Determine how many points are available on the board\n",
    "    max_points = solved_board_df[\"points\"].sum()\n",
    "    \n",
    "    # Store the stats in a dictionary\n",
    "    solved_board_stats_df_records.append({\n",
    "        \"file_path\": board_file_path,\n",
    "        \"max_point_word_ct\": max_point_word_ct,\n",
    "        \"max_points\": max_points\n",
    "    })\n",
    "\n",
    "# Create a DataFrame from the records\n",
    "solved_board_stats_df = pd.DataFrame.from_records(solved_board_stats_df_records)\n",
    "\n",
    "# Merge the solved board stats with the original board data\n",
    "solved_board_stats_df = board_data_df.merge(solved_board_stats_df, on=\"file_path\").sort_values(\n",
    "    \"max_points\", ascending=False\n",
    ")"
   ]
  },
  {
   "cell_type": "code",
   "execution_count": null,
   "metadata": {},
   "outputs": [],
   "source": [
    "solved_board_stats_df[\"max_point_word_ct\"].mean()"
   ]
  },
  {
   "cell_type": "code",
   "execution_count": null,
   "metadata": {},
   "outputs": [],
   "source": [
    "solved_board_stats_df.query(\"file_path=='data\\\\test-pictures\\\\easy-24.png'\")"
   ]
  },
  {
   "cell_type": "code",
   "execution_count": null,
   "metadata": {},
   "outputs": [],
   "source": [
    "board_data_dfs[\"data\\\\test-pictures\\\\easy-24.png\"].head(15)"
   ]
  },
  {
   "cell_type": "code",
   "execution_count": null,
   "metadata": {},
   "outputs": [],
   "source": []
  }
 ],
 "metadata": {
  "kernelspec": {
   "display_name": ".venv",
   "language": "python",
   "name": "python3"
  },
  "language_info": {
   "codemirror_mode": {
    "name": "ipython",
    "version": 3
   },
   "file_extension": ".py",
   "mimetype": "text/x-python",
   "name": "python",
   "nbconvert_exporter": "python",
   "pygments_lexer": "ipython3",
   "version": "3.11.0"
  },
  "orig_nbformat": 4
 },
 "nbformat": 4,
 "nbformat_minor": 2
}
