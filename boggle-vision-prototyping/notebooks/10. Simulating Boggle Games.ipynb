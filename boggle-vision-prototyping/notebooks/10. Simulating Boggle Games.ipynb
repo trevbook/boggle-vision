{
 "cells": [
  {
   "cell_type": "markdown",
   "metadata": {},
   "source": [
    "# Motivation\n",
    "After analyzing the statistics of the Boggle games I'd hand-labeled, I realized: if I take down the letter distribution of each of the tiles in the actual game, then I should be able to simulate as many games as I want. "
   ]
  },
  {
   "cell_type": "markdown",
   "metadata": {},
   "source": [
    "# Setup\n",
    "The cells below will set up the rest of the notebook. \n",
    "\n",
    "I'll start by configuring the kernel: "
   ]
  },
  {
   "cell_type": "code",
   "execution_count": 1,
   "metadata": {},
   "outputs": [
    {
     "name": "stdout",
     "output_type": "stream",
     "text": [
      "d:\\data\\programming\\boggle-vision\\boggle-vision-prototyping\n"
     ]
    }
   ],
   "source": [
    "# Change directory to the path above\n",
    "%cd ..\n",
    "\n",
    "# Enable the autoreload of modules\n",
    "%load_ext autoreload\n",
    "%autoreload 2"
   ]
  },
  {
   "cell_type": "markdown",
   "metadata": {},
   "source": [
    "Next, I'm going to import some necessary modules:"
   ]
  },
  {
   "cell_type": "code",
   "execution_count": 2,
   "metadata": {},
   "outputs": [],
   "source": [
    "# Import general modules\n",
    "import pandas as pd\n",
    "import random\n",
    "from tqdm import tqdm\n",
    "from concurrent.futures import ThreadPoolExecutor\n",
    "\n",
    "# Importing custom-built modules\n",
    "from utils.board_solving import (\n",
    "    parse_board_from_letter_sequence,\n",
    "    solve_boggle,\n",
    "    allowed_words_trie,\n",
    ")"
   ]
  },
  {
   "cell_type": "code",
   "execution_count": 7,
   "metadata": {},
   "outputs": [
    {
     "data": {
      "text/html": [
       "<div>\n",
       "<style scoped>\n",
       "    .dataframe tbody tr th:only-of-type {\n",
       "        vertical-align: middle;\n",
       "    }\n",
       "\n",
       "    .dataframe tbody tr th {\n",
       "        vertical-align: top;\n",
       "    }\n",
       "\n",
       "    .dataframe thead th {\n",
       "        text-align: right;\n",
       "    }\n",
       "</style>\n",
       "<table border=\"1\" class=\"dataframe\">\n",
       "  <thead>\n",
       "    <tr style=\"text-align: right;\">\n",
       "      <th></th>\n",
       "      <th>word</th>\n",
       "      <th>length</th>\n",
       "    </tr>\n",
       "  </thead>\n",
       "  <tbody>\n",
       "    <tr>\n",
       "      <th>845</th>\n",
       "      <td>accommodationists</td>\n",
       "      <td>17</td>\n",
       "    </tr>\n",
       "    <tr>\n",
       "      <th>107227</th>\n",
       "      <td>paleogeographical</td>\n",
       "      <td>17</td>\n",
       "    </tr>\n",
       "    <tr>\n",
       "      <th>107914</th>\n",
       "      <td>paraformaldehydes</td>\n",
       "      <td>17</td>\n",
       "    </tr>\n",
       "    <tr>\n",
       "      <th>107900</th>\n",
       "      <td>paradoxicalnesses</td>\n",
       "      <td>17</td>\n",
       "    </tr>\n",
       "    <tr>\n",
       "      <th>107505</th>\n",
       "      <td>pancreatectomized</td>\n",
       "      <td>17</td>\n",
       "    </tr>\n",
       "    <tr>\n",
       "      <th>107253</th>\n",
       "      <td>paleopathologists</td>\n",
       "      <td>17</td>\n",
       "    </tr>\n",
       "    <tr>\n",
       "      <th>107250</th>\n",
       "      <td>paleopathological</td>\n",
       "      <td>17</td>\n",
       "    </tr>\n",
       "    <tr>\n",
       "      <th>107239</th>\n",
       "      <td>paleomagnetically</td>\n",
       "      <td>17</td>\n",
       "    </tr>\n",
       "    <tr>\n",
       "      <th>107202</th>\n",
       "      <td>paleoanthropology</td>\n",
       "      <td>17</td>\n",
       "    </tr>\n",
       "    <tr>\n",
       "      <th>108077</th>\n",
       "      <td>paraprofessionals</td>\n",
       "      <td>17</td>\n",
       "    </tr>\n",
       "    <tr>\n",
       "      <th>106614</th>\n",
       "      <td>ovoviviparousness</td>\n",
       "      <td>17</td>\n",
       "    </tr>\n",
       "    <tr>\n",
       "      <th>106574</th>\n",
       "      <td>overzealousnesses</td>\n",
       "      <td>17</td>\n",
       "    </tr>\n",
       "    <tr>\n",
       "      <th>106354</th>\n",
       "      <td>oversubscriptions</td>\n",
       "      <td>17</td>\n",
       "    </tr>\n",
       "    <tr>\n",
       "      <th>106251</th>\n",
       "      <td>oversophisticated</td>\n",
       "      <td>17</td>\n",
       "    </tr>\n",
       "    <tr>\n",
       "      <th>106176</th>\n",
       "      <td>oversensitivities</td>\n",
       "      <td>17</td>\n",
       "    </tr>\n",
       "  </tbody>\n",
       "</table>\n",
       "</div>"
      ],
      "text/plain": [
       "                     word  length\n",
       "845     accommodationists      17\n",
       "107227  paleogeographical      17\n",
       "107914  paraformaldehydes      17\n",
       "107900  paradoxicalnesses      17\n",
       "107505  pancreatectomized      17\n",
       "107253  paleopathologists      17\n",
       "107250  paleopathological      17\n",
       "107239  paleomagnetically      17\n",
       "107202  paleoanthropology      17\n",
       "108077  paraprofessionals      17\n",
       "106614  ovoviviparousness      17\n",
       "106574  overzealousnesses      17\n",
       "106354  oversubscriptions      17\n",
       "106251  oversophisticated      17\n",
       "106176  oversensitivities      17"
      ]
     },
     "execution_count": 7,
     "metadata": {},
     "output_type": "execute_result"
    }
   ],
   "source": [
    "import json\n",
    "with open(\"data/scrabble-dictionary.json\", \"r\") as json_file:\n",
    "    allowed_words = json.load(json_file)\n",
    "allowed_words_df = pd.DataFrame([{\"word\": word, \"length\": len(word)} for word in allowed_words])\n",
    "allowed_words_df.query(\"length==17\").sort_values(by=\"length\", ascending=False).head(15)"
   ]
  },
  {
   "cell_type": "markdown",
   "metadata": {},
   "source": [
    "Finally, I'm going to load in the necessary data: "
   ]
  },
  {
   "cell_type": "code",
   "execution_count": null,
   "metadata": {},
   "outputs": [],
   "source": [
    "# Read in the data on Boggle letter frequencies\n",
    "boggle_tile_letters_df = pd.read_excel(\"data/super-big-boggle-tile-letters.xlsx\")"
   ]
  },
  {
   "cell_type": "markdown",
   "metadata": {},
   "source": [
    "# Setting Up Simulations\n",
    "Now: I'm going to create a method that'll generate a random Boggle board, given these letter distributions. "
   ]
  },
  {
   "cell_type": "code",
   "execution_count": null,
   "metadata": {},
   "outputs": [],
   "source": [
    "# Create a dictionary mapping each tile_idx to the possible letters\n",
    "tile_idx_to_possible_letters_dict = {\n",
    "    row[\"tile_idx\"]: [row[f\"side_{side_idx+1}\"] for side_idx in range(6)]\n",
    "    for idx, row in boggle_tile_letters_df.iterrows()\n",
    "}\n",
    "\n",
    "\n",
    "def simulate_boggle_board(tile_idx_to_possible_letters_dict):\n",
    "    \"\"\"\n",
    "    This method will simulate a Boggle board by randomly selecting letters\n",
    "    from each possible letter set for each tile.\n",
    "    \"\"\"\n",
    "\n",
    "    # Select one of the possible letters for each tile\n",
    "    letter_choices = [\n",
    "        random.choice(possible_letters).lower()\n",
    "        for tile_idx, possible_letters in tile_idx_to_possible_letters_dict.items()\n",
    "    ]\n",
    "\n",
    "    # Now, randomize the order of the letters\n",
    "    random.shuffle(letter_choices)\n",
    "\n",
    "    # Return the letter choices\n",
    "    return letter_choices"
   ]
  },
  {
   "cell_type": "markdown",
   "metadata": {},
   "source": [
    "# Running Simulations\n",
    "Now that I've got a method to generate accurate Boggle boards, I'm going to try and solve a ton of boards.\n",
    "\n",
    "I'll start by generating a bunch of boards. "
   ]
  },
  {
   "cell_type": "code",
   "execution_count": null,
   "metadata": {},
   "outputs": [],
   "source": [
    "# Parameterize the simulation\n",
    "n_boards_to_simulate = 1500000\n",
    "\n",
    "# Generate each of the boards\n",
    "boards = [\n",
    "    parse_board_from_letter_sequence(\n",
    "        simulate_boggle_board(tile_idx_to_possible_letters_dict)\n",
    "    )\n",
    "    for _ in range(n_boards_to_simulate)\n",
    "]"
   ]
  },
  {
   "cell_type": "markdown",
   "metadata": {},
   "source": [
    "Now that I've got all of these boards, I'm going to try and solve them. \n",
    "\n",
    "We're going to do this in parallel, so that we can solve a ton of boards at once. "
   ]
  },
  {
   "cell_type": "code",
   "execution_count": null,
   "metadata": {},
   "outputs": [],
   "source": [
    "# We're going to store all of the solved boards in a list\n",
    "solved_boards_dict = {}\n",
    "\n",
    "# We're going to store the futures in a dictionary\n",
    "futures_dict = {}\n",
    "with ThreadPoolExecutor(max_workers=64) as executor:\n",
    "    \n",
    "    # For each of the boards in the `boards` list, we'll submit a job to the executor\n",
    "    print(f\"Submitting {len(boards)} jobs to the executor...\")\n",
    "    for board_idx, board in tqdm(list(enumerate(boards))):\n",
    "        futures_dict[board_idx] = executor.submit(solve_boggle, board, allowed_words_trie)\n",
    "    \n",
    "    # Now, we're going to wait for each of the futures to complete\n",
    "    print(f\"\\nSolving {len(boards)} boards...\")\n",
    "    for board_idx, future in tqdm(list(futures_dict.items())):\n",
    "        solved_boards_dict[board_idx] = future.result()"
   ]
  },
  {
   "cell_type": "markdown",
   "metadata": {},
   "source": [
    "# Collecting Statistics\n",
    "Now that I've simulated all of the Boggle boards and solved them, I want to collect some statistics about them. Here are things I'm interested in: \n",
    "\n",
    "- Frequency statistics for each word\n",
    "- Avg. total points available\n",
    "- Avg. total words available\n",
    "- Avg. # of 8+ length words\n",
    "\n",
    "I'll start by calculating the frequency stats for each word: "
   ]
  },
  {
   "cell_type": "code",
   "execution_count": null,
   "metadata": {},
   "outputs": [],
   "source": [
    "# We're going to store the number of times each word was found in a board\n",
    "word_appearances_dict = {}\n",
    "\n",
    "# Iterate through each of the solved boards\n",
    "for board_idx, solved_board_df in tqdm(list(solved_boards_dict.items())):\n",
    "    # Extract the words from this board\n",
    "    words = solved_board_df[\"word\"].tolist()\n",
    "\n",
    "    # Iterate through each of the words and update the dictionary\n",
    "    for word in words:\n",
    "        word_appearances_dict[word] = word_appearances_dict.get(word, 0) + 1\n",
    "\n",
    "# Create a DataFrame from the dictionary\n",
    "word_appearances_df = pd.DataFrame.from_records(\n",
    "    [\n",
    "        {\"word\": word, \"appearances\": appearances, \"length\": len(word)}\n",
    "        for word, appearances in word_appearances_dict.items()\n",
    "    ]\n",
    ")\n",
    "\n",
    "# Sort the DataFrame by the number of appearances\n",
    "word_appearances_df = word_appearances_df.sort_values(\n",
    "    by=[\"appearances\", \"length\", \"word\"], ascending=[False, True, True]\n",
    ")\n",
    "\n",
    "# Add a column indicating the likelihood of each word appearing\n",
    "word_appearances_df[\"prob_of_appearance\"] = (\n",
    "    word_appearances_df[\"appearances\"] / n_boards_to_simulate\n",
    ")"
   ]
  },
  {
   "cell_type": "markdown",
   "metadata": {},
   "source": [
    "What are some of the most common words? "
   ]
  },
  {
   "cell_type": "code",
   "execution_count": null,
   "metadata": {},
   "outputs": [],
   "source": [
    "# Show the first 10 words, sorted by the number of appearances\n",
    "word_appearances_df.head(10)"
   ]
  },
  {
   "cell_type": "markdown",
   "metadata": {},
   "source": [
    "How about the least common words?"
   ]
  },
  {
   "cell_type": "code",
   "execution_count": null,
   "metadata": {},
   "outputs": [],
   "source": [
    "# Show the last 10 words, sorted by the number of appearances\n",
    "word_appearances_df.tail(10)"
   ]
  },
  {
   "cell_type": "markdown",
   "metadata": {},
   "source": [
    "Now: I want to determine some stats about the point distributions associated with each of the boards:"
   ]
  },
  {
   "cell_type": "code",
   "execution_count": null,
   "metadata": {},
   "outputs": [],
   "source": [
    "# We're going to store each of the boards' stats in a list\n",
    "board_stats_df_records = []\n",
    "\n"
   ]
  },
  {
   "cell_type": "code",
   "execution_count": null,
   "metadata": {},
   "outputs": [],
   "source": [
    "def extract_board_stats(solved_board_df):\n",
    "    \"\"\"\n",
    "    This is a helper method to extract the stats from a solved board.\n",
    "    \"\"\"\n",
    "\n",
    "    # Calculate some stats about the current board\n",
    "    total_points = solved_board_df[\"points\"].sum()\n",
    "    num_words = len(solved_board_df)\n",
    "    eleven_pointers = len(solved_board_df.query(\"length >= 8\"))\n",
    "\n",
    "    # Return a dictionary containing the stats\n",
    "    return {\n",
    "        \"board_idx\": board_idx,\n",
    "        \"total_points\": total_points,\n",
    "        \"num_words\": num_words,\n",
    "        \"eleven_pointers\": eleven_pointers,\n",
    "    }\n",
    "\n",
    "\n",
    "# We're going to store each of the boards' stats in a list\n",
    "board_stats_df_records = []\n",
    "\n",
    "# Parallelize the board stats extraction\n",
    "futures = {}\n",
    "with ThreadPoolExecutor(max_workers=32) as executor:\n",
    "    for board_idx, solved_board_df in tqdm(list(solved_boards_dict.items())):\n",
    "        futures[board_idx] = executor.submit(extract_board_stats, solved_board_df)\n",
    "\n",
    "    for board_idx, future in tqdm(list(futures.items())):\n",
    "        board_stats_df_records.append(future.result())\n",
    "\n",
    "# Finally, make a DataFrame from the records\n",
    "board_stats_df = pd.DataFrame.from_records(board_stats_df_records)"
   ]
  },
  {
   "cell_type": "markdown",
   "metadata": {},
   "source": [
    "# Saving Data\n",
    "Now that I've run all of the simulations, I want to actually save some of the data. "
   ]
  },
  {
   "cell_type": "code",
   "execution_count": null,
   "metadata": {},
   "outputs": [],
   "source": []
  }
 ],
 "metadata": {
  "kernelspec": {
   "display_name": ".venv",
   "language": "python",
   "name": "python3"
  },
  "language_info": {
   "codemirror_mode": {
    "name": "ipython",
    "version": 3
   },
   "file_extension": ".py",
   "mimetype": "text/x-python",
   "name": "python",
   "nbconvert_exporter": "python",
   "pygments_lexer": "ipython3",
   "version": "3.11.0"
  }
 },
 "nbformat": 4,
 "nbformat_minor": 2
}
