{
 "cells": [
  {
   "cell_type": "markdown",
   "metadata": {},
   "source": [
    "# Motivation\n",
    "After analyzing the statistics of the Boggle games I'd hand-labeled, I realized: if I take down the letter distribution of each of the tiles in the actual game, then I should be able to simulate as many games as I want. "
   ]
  },
  {
   "cell_type": "markdown",
   "metadata": {},
   "source": [
    "# Setup\n",
    "The cells below will set up the rest of the notebook. \n",
    "\n",
    "I'll start by configuring the kernel: "
   ]
  },
  {
   "cell_type": "code",
   "execution_count": 1,
   "metadata": {},
   "outputs": [
    {
     "name": "stdout",
     "output_type": "stream",
     "text": [
      "d:\\data\\programming\\boggle-vision\\boggle-vision-prototyping\n"
     ]
    }
   ],
   "source": [
    "# Change directory to the path above\n",
    "%cd ..\n",
    "\n",
    "# Enable the autoreload of modules\n",
    "%load_ext autoreload\n",
    "%autoreload 2"
   ]
  },
  {
   "cell_type": "markdown",
   "metadata": {},
   "source": [
    "Next, I'm going to import some necessary modules:"
   ]
  },
  {
   "cell_type": "code",
   "execution_count": 2,
   "metadata": {},
   "outputs": [],
   "source": [
    "# Import general modules\n",
    "import pandas as pd\n",
    "import random\n",
    "from tqdm import tqdm\n",
    "import json\n",
    "from concurrent.futures import ThreadPoolExecutor\n",
    "from pathlib import Path\n",
    "import datetime\n",
    "import time\n",
    "\n",
    "# Importing custom-built modules\n",
    "from utils.board_solving import (\n",
    "    parse_board_from_letter_sequence,\n",
    "    solve_boggle,\n",
    "    allowed_words_trie,\n",
    ")"
   ]
  },
  {
   "cell_type": "markdown",
   "metadata": {},
   "source": [
    "Finally, I'm going to load in the necessary data: "
   ]
  },
  {
   "cell_type": "code",
   "execution_count": 3,
   "metadata": {},
   "outputs": [],
   "source": [
    "# Read in the data on Boggle letter frequencies\n",
    "boggle_tile_letters_df = pd.read_excel(\"data/super-big-boggle-tile-letters.xlsx\")"
   ]
  },
  {
   "cell_type": "markdown",
   "metadata": {},
   "source": [
    "# Setting Up Simulations\n",
    "Now: I'm going to create a method that'll generate a random Boggle board, given these letter distributions. "
   ]
  },
  {
   "cell_type": "code",
   "execution_count": 4,
   "metadata": {},
   "outputs": [],
   "source": [
    "# Create a dictionary mapping each tile_idx to the possible letters\n",
    "tile_idx_to_possible_letters_dict = {\n",
    "    row[\"tile_idx\"]: [row[f\"side_{side_idx+1}\"] for side_idx in range(6)]\n",
    "    for idx, row in boggle_tile_letters_df.iterrows()\n",
    "}\n",
    "\n",
    "\n",
    "def simulate_boggle_board(tile_idx_to_possible_letters_dict):\n",
    "    \"\"\"\n",
    "    This method will simulate a Boggle board by randomly selecting letters\n",
    "    from each possible letter set for each tile.\n",
    "    \"\"\"\n",
    "\n",
    "    # Select one of the possible letters for each tile\n",
    "    letter_choices = [\n",
    "        random.choice(possible_letters).lower()\n",
    "        for tile_idx, possible_letters in tile_idx_to_possible_letters_dict.items()\n",
    "    ]\n",
    "\n",
    "    # Now, randomize the order of the letters\n",
    "    random.shuffle(letter_choices)\n",
    "\n",
    "    # Return the letter choices\n",
    "    return letter_choices"
   ]
  },
  {
   "cell_type": "markdown",
   "metadata": {},
   "source": [
    "# Running Simulations\n",
    "Now that I've got a method to generate accurate Boggle boards, I'm going to try and solve a ton of boards.\n",
    "\n",
    "I'll start by generating a bunch of boards. "
   ]
  },
  {
   "cell_type": "code",
   "execution_count": 5,
   "metadata": {},
   "outputs": [],
   "source": [
    "# # Parameterize the simulation\n",
    "# n_boards_to_simulate = 100000\n",
    "\n",
    "# # Generate each of the boards\n",
    "# boards = [\n",
    "#     parse_board_from_letter_sequence(\n",
    "#         simulate_boggle_board(tile_idx_to_possible_letters_dict)\n",
    "#     )\n",
    "#     for _ in range(n_boards_to_simulate)\n",
    "# ]"
   ]
  },
  {
   "cell_type": "markdown",
   "metadata": {},
   "source": [
    "Now that I've got all of these boards, I'm going to try and solve them. \n",
    "\n",
    "We're going to do this in parallel, so that we can solve a ton of boards at once. "
   ]
  },
  {
   "cell_type": "code",
   "execution_count": 6,
   "metadata": {},
   "outputs": [],
   "source": [
    "# # We're going to store all of the solved boards in a list\n",
    "# solved_boards_dict = {}\n",
    "\n",
    "# # We're going to store the futures in a dictionary\n",
    "# futures_dict = {}\n",
    "# with ThreadPoolExecutor(max_workers=16) as executor:\n",
    "    \n",
    "#     # For each of the boards in the `boards` list, we'll submit a job to the executor\n",
    "#     print(f\"Submitting {len(boards)} jobs to the executor...\")\n",
    "#     for board_idx, board in tqdm(list(enumerate(boards))):\n",
    "#         futures_dict[board_idx] = executor.submit(solve_boggle, board, allowed_words_trie)\n",
    "    \n",
    "#     # Now, we're going to wait for each of the futures to complete\n",
    "#     print(f\"\\nSolving {len(boards)} boards...\")\n",
    "#     for board_idx, future in tqdm(list(futures_dict.items())):\n",
    "#         solved_boards_dict[board_idx] = future.result()"
   ]
  },
  {
   "cell_type": "markdown",
   "metadata": {},
   "source": [
    "# Saving Results of Simulated Games\n",
    "To better understand the results of the simulated Boggle games, I'll save them. "
   ]
  },
  {
   "cell_type": "code",
   "execution_count": 7,
   "metadata": {},
   "outputs": [],
   "source": [
    "# # Create a master DataFrame that contains all of the solved boards\n",
    "# solved_boards_df_list = []\n",
    "# for board_id, solved_board_df in solved_boards_dict.items():\n",
    "#     solved_board_df[\"board_id\"] = board_id\n",
    "#     solved_board_df.drop(columns=[\"length\", \"points\", \"path\", \"word_id\"], inplace=True, errors=\"ignore\")\n",
    "#     solved_boards_df_list.append(solved_board_df)\n",
    "# solved_boards_df = pd.concat(solved_boards_df_list)\n",
    "\n",
    "# # Create a directory in the data/ folder that contains results of the simulations\n",
    "# Path(\"data/simulations\").mkdir(parents=True, exist_ok=True)\n",
    "\n",
    "# # Get a timestamp for the simulation run\n",
    "# timestamp = datetime.datetime.now().strftime(\"%Y-%m-%d_%H-%M-%S\")\n",
    "\n",
    "# # Save a .json file version of the solved_boards_df\n",
    "# solved_boards_df.to_json(\n",
    "#     f\"data/simulations/solved_boards_{timestamp}.json\", orient=\"records\"\n",
    "# )"
   ]
  },
  {
   "cell_type": "markdown",
   "metadata": {},
   "source": [
    "# Collecting Statistics\n",
    "Now that I've simulated all of the Boggle boards and solved them, I want to collect some statistics about them. Here are things I'm interested in: \n",
    "\n",
    "- Frequency statistics for each word\n",
    "- Avg. total points available\n",
    "- Avg. total words available\n",
    "- Avg. # of 8+ length words\n",
    "\n",
    "I'll start by calculating the frequency stats for each word: "
   ]
  },
  {
   "cell_type": "code",
   "execution_count": 8,
   "metadata": {},
   "outputs": [],
   "source": [
    "# # We're going to store the number of times each word was found in a board\n",
    "# word_appearances_dict = {}\n",
    "\n",
    "# # Iterate through each of the solved boards\n",
    "# for board_idx, solved_board_df in tqdm(list(solved_boards_dict.items())):\n",
    "#     # Extract the words from this board\n",
    "#     words = solved_board_df[\"word\"].tolist()\n",
    "\n",
    "#     # Iterate through each of the words and update the dictionary\n",
    "#     for word in words:\n",
    "#         word_appearances_dict[word] = word_appearances_dict.get(word, 0) + 1\n",
    "\n",
    "# # Create a DataFrame from the dictionary\n",
    "# word_appearances_df = pd.DataFrame.from_records(\n",
    "#     [\n",
    "#         {\"word\": word, \"appearances\": appearances, \"length\": len(word)}\n",
    "#         for word, appearances in word_appearances_dict.items()\n",
    "#     ]\n",
    "# )\n",
    "\n",
    "# # Sort the DataFrame by the number of appearances\n",
    "# word_appearances_df = word_appearances_df.sort_values(\n",
    "#     by=[\"appearances\", \"length\", \"word\"], ascending=[False, True, True]\n",
    "# )\n",
    "\n",
    "# # Add a column indicating the likelihood of each word appearing\n",
    "# word_appearances_df[\"prob_of_appearance\"] = (\n",
    "#     word_appearances_df[\"appearances\"] / n_boards_to_simulate\n",
    "# )"
   ]
  },
  {
   "cell_type": "markdown",
   "metadata": {},
   "source": [
    "What are some of the most common words? "
   ]
  },
  {
   "cell_type": "code",
   "execution_count": 9,
   "metadata": {},
   "outputs": [],
   "source": [
    "# def extract_board_stats(solved_board_df):\n",
    "#     \"\"\"\n",
    "#     This is a helper method to extract the stats from a solved board.\n",
    "#     \"\"\"\n",
    "\n",
    "#     # Calculate some stats about the current board\n",
    "#     total_points = solved_board_df[\"points\"].sum()\n",
    "#     num_words = len(solved_board_df)\n",
    "#     eleven_pointers = len(solved_board_df.query(\"length >= 8\"))\n",
    "\n",
    "#     # Return a dictionary containing the stats\n",
    "#     return {\n",
    "#         \"board_idx\": board_idx,\n",
    "#         \"total_points\": total_points,\n",
    "#         \"num_words\": num_words,\n",
    "#         \"eleven_pointers\": eleven_pointers,\n",
    "#     }\n",
    "\n",
    "\n",
    "# # We're going to store each of the boards' stats in a list\n",
    "# board_stats_df_records = []\n",
    "\n",
    "# # Parallelize the board stats extraction\n",
    "# futures = {}\n",
    "# with ThreadPoolExecutor(max_workers=32) as executor:\n",
    "#     for board_idx, solved_board_df in tqdm(list(solved_boards_dict.items())):\n",
    "#         futures[board_idx] = executor.submit(extract_board_stats, solved_board_df)\n",
    "\n",
    "#     for board_idx, future in tqdm(list(futures.items())):\n",
    "#         board_stats_df_records.append(future.result())\n",
    "\n",
    "# # Finally, make a DataFrame from the records\n",
    "# board_stats_df = pd.DataFrame.from_records(board_stats_df_records)"
   ]
  },
  {
   "cell_type": "markdown",
   "metadata": {},
   "source": [
    "# **SIMULATION ITERATION LOOP**\n",
    "A quick and easy way to run a bunch of simulations without totally crashing my computer. "
   ]
  },
  {
   "cell_type": "code",
   "execution_count": 10,
   "metadata": {},
   "outputs": [
    {
     "name": "stdout",
     "output_type": "stream",
     "text": [
      "\n",
      "\n",
      "STARTING RUN 1 OF 5...\n",
      "Submitting 50000 jobs to the executor...\n"
     ]
    },
    {
     "name": "stderr",
     "output_type": "stream",
     "text": [
      "100%|██████████| 50000/50000 [05:51<00:00, 142.31it/s]  \n"
     ]
    },
    {
     "name": "stdout",
     "output_type": "stream",
     "text": [
      "Solving 50000 boards...\n"
     ]
    },
    {
     "name": "stderr",
     "output_type": "stream",
     "text": [
      "100%|██████████| 50000/50000 [01:47<00:00, 464.09it/s]   \n"
     ]
    },
    {
     "name": "stdout",
     "output_type": "stream",
     "text": [
      "\n",
      "\n",
      "STARTING RUN 2 OF 5...\n",
      "Submitting 50000 jobs to the executor...\n"
     ]
    },
    {
     "name": "stderr",
     "output_type": "stream",
     "text": [
      "100%|██████████| 50000/50000 [01:25<00:00, 584.23it/s] \n"
     ]
    },
    {
     "name": "stdout",
     "output_type": "stream",
     "text": [
      "Solving 50000 boards...\n"
     ]
    },
    {
     "name": "stderr",
     "output_type": "stream",
     "text": [
      "100%|██████████| 50000/50000 [07:37<00:00, 109.34it/s]  \n"
     ]
    },
    {
     "name": "stdout",
     "output_type": "stream",
     "text": [
      "\n",
      "\n",
      "STARTING RUN 3 OF 5...\n",
      "Submitting 50000 jobs to the executor...\n"
     ]
    },
    {
     "name": "stderr",
     "output_type": "stream",
     "text": [
      " 89%|████████▊ | 44262/50000 [01:45<00:01, 3567.40it/s]"
     ]
    }
   ],
   "source": [
    "# Parameterize the simulation iteration loop\n",
    "n_boards_to_simulate_per_run = 50000\n",
    "n_runs = 5\n",
    "n_concurrent_workers = 24\n",
    "min_to_sleep_between_runs = 3\n",
    "\n",
    "# Start the simulation loop\n",
    "for run_idx in range(n_runs):\n",
    "    # Print out the current run index\n",
    "    print(f\"\\n\\nSTARTING RUN {run_idx+1} OF {n_runs}...\")\n",
    "\n",
    "    # Parameterize the simulation\n",
    "    n_boards_to_simulate = n_boards_to_simulate_per_run\n",
    "\n",
    "    # Generate each of the boards\n",
    "    boards = [\n",
    "        parse_board_from_letter_sequence(\n",
    "            simulate_boggle_board(tile_idx_to_possible_letters_dict)\n",
    "        )\n",
    "        for _ in range(n_boards_to_simulate)\n",
    "    ]\n",
    "\n",
    "    # We're going to store all of the solved boards in a list\n",
    "    solved_boards_dict = {}\n",
    "\n",
    "    # We're going to store the futures in a dictionary\n",
    "    futures_dict = {}\n",
    "    with ThreadPoolExecutor(max_workers=n_concurrent_workers) as executor:\n",
    "        # For each of the boards in the `boards` list, we'll submit a job to the executor\n",
    "        print(f\"Submitting {len(boards)} jobs to the executor...\")\n",
    "        for board_idx, board in tqdm(list(enumerate(boards))):\n",
    "            futures_dict[board_idx] = executor.submit(\n",
    "                solve_boggle, board, allowed_words_trie\n",
    "            )\n",
    "\n",
    "        # Now, we're going to wait for each of the futures to complete\n",
    "        print(f\"Solving {len(boards)} boards...\")\n",
    "        for board_idx, future in tqdm(list(futures_dict.items())):\n",
    "            solved_boards_dict[board_idx] = future.result()\n",
    "\n",
    "    # Create a master DataFrame that contains all of the solved boards\n",
    "    solved_boards_df_list = []\n",
    "    for board_id, solved_board_df in solved_boards_dict.items():\n",
    "        solved_board_df[\"board_id\"] = board_id\n",
    "        solved_board_df.drop(\n",
    "            columns=[\"length\", \"points\", \"path\", \"word_id\"],\n",
    "            inplace=True,\n",
    "            errors=\"ignore\",\n",
    "        )\n",
    "        solved_boards_df_list.append(solved_board_df)\n",
    "    solved_boards_df = pd.concat(solved_boards_df_list)\n",
    "\n",
    "    # Create a DataFrame that aggregates the number of times each word was found\n",
    "    aggregated_by_word_df = (\n",
    "        solved_boards_df.groupby(\"word\")\n",
    "        .agg({\"board_id\": \"count\"})\n",
    "        .reset_index()\n",
    "        .rename(columns={\"board_id\": \"ct\"})\n",
    "        .sort_values(\"ct\", ascending=False)\n",
    "    )\n",
    "\n",
    "    # Make a dictionary that stores the number of boards and the number of words\n",
    "    dict_to_save = {\n",
    "        \"n_games\": n_boards_to_simulate_per_run,\n",
    "        \"word_ct\": [(row.word, row.ct) for row in aggregated_by_word_df.itertuples()],\n",
    "    }\n",
    "\n",
    "    # Create a directory in the data/ folder that contains results of the simulations\n",
    "    Path(\"data/simulations\").mkdir(parents=True, exist_ok=True)\n",
    "\n",
    "    # Get a timestamp for the simulation run\n",
    "    timestamp = datetime.datetime.now().strftime(\"%Y-%m-%d_%H-%M-%S\")\n",
    "\n",
    "    # Save a JSON of the dictionary\n",
    "    with open(f\"data/simulations/word_ct_{timestamp}.json\", \"w\") as f:\n",
    "        json.dump(dict_to_save, f)\n",
    "\n",
    "    # Sleep for a couple of minutes to allow the OS to clean up the memory and the CPU to cool down\n",
    "    time.sleep(min_to_sleep_between_runs * 60)"
   ]
  },
  {
   "cell_type": "code",
   "execution_count": null,
   "metadata": {},
   "outputs": [],
   "source": []
  }
 ],
 "metadata": {
  "kernelspec": {
   "display_name": ".venv",
   "language": "python",
   "name": "python3"
  },
  "language_info": {
   "codemirror_mode": {
    "name": "ipython",
    "version": 3
   },
   "file_extension": ".py",
   "mimetype": "text/x-python",
   "name": "python",
   "nbconvert_exporter": "python",
   "pygments_lexer": "ipython3",
   "version": "3.11.0"
  }
 },
 "nbformat": 4,
 "nbformat_minor": 2
}
